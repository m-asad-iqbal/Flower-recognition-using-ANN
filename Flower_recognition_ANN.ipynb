{
  "cells": [
    {
      "cell_type": "code",
      "execution_count": null,
      "metadata": {
        "id": "uHRwrE7bTQkZ"
      },
      "outputs": [],
      "source": [
        "import os\n",
        "import cv2\n",
        "import numpy as np\n",
        "import matplotlib.pyplot as plt\n",
        "from sklearn.model_selection import train_test_split\n",
        "from tensorflow.keras.models import Sequential\n",
        "from tensorflow.keras.layers import Dense\n",
        "import time\n",
        "import joblib"
      ]
    },
    {
      "cell_type": "code",
      "execution_count": null,
      "metadata": {
        "id": "H_mjAcL-TRIi"
      },
      "outputs": [],
      "source": [
        "DATADIR = '/content/drive/MyDrive/flowers'\n",
        "IMG_SIZE = 180\n",
        "CATEGORIES = ['daisy', 'dandelion', 'rose', 'sunflower', 'tulip']"
      ]
    },
    {
      "cell_type": "code",
      "execution_count": null,
      "metadata": {
        "id": "YmgHrbzLTSYZ"
      },
      "outputs": [],
      "source": [
        "from tqdm import tqdm\n",
        "data = []\n",
        "def create_data():\n",
        "  for category in CATEGORIES:\n",
        "    path = os.path.join(DATADIR, category)\n",
        "    class_num = CATEGORIES.index(category)\n",
        "    for img in tqdm(os.listdir(path)):\n",
        "      try:\n",
        "        img_array = cv2.imread(os.path.join(path, img))\n",
        "        new_array = cv2.resize(img_array, (IMG_SIZE, IMG_SIZE))\n",
        "        data.append([new_array,class_num])\n",
        "      except Exception as e:\n",
        "        print(\"Error\")\n"
      ]
    },
    {
      "cell_type": "code",
      "execution_count": null,
      "metadata": {
        "colab": {
          "base_uri": "https://localhost:8080/"
        },
        "id": "AYxrQCIiU653",
        "outputId": "ac4548d2-d271-4dbb-e9af-dcfc71850f04"
      },
      "outputs": [
        {
          "output_type": "stream",
          "name": "stderr",
          "text": [
            "100%|██████████| 769/769 [00:07<00:00, 108.72it/s]\n",
            " 80%|████████  | 849/1055 [00:08<00:01, 126.34it/s]"
          ]
        },
        {
          "output_type": "stream",
          "name": "stdout",
          "text": [
            "Error\n"
          ]
        },
        {
          "output_type": "stream",
          "name": "stderr",
          "text": [
            " 91%|█████████ | 962/1055 [00:09<00:00, 134.37it/s]"
          ]
        },
        {
          "output_type": "stream",
          "name": "stdout",
          "text": [
            "Error\n"
          ]
        },
        {
          "output_type": "stream",
          "name": "stderr",
          "text": [
            " 96%|█████████▌| 1008/1055 [00:09<00:00, 142.63it/s]"
          ]
        },
        {
          "output_type": "stream",
          "name": "stdout",
          "text": [
            "Error\n"
          ]
        },
        {
          "output_type": "stream",
          "name": "stderr",
          "text": [
            "100%|██████████| 1055/1055 [00:09<00:00, 108.49it/s]\n",
            "100%|██████████| 784/784 [00:05<00:00, 149.10it/s]\n",
            "100%|██████████| 734/734 [00:04<00:00, 150.60it/s]\n",
            "100%|██████████| 984/984 [00:07<00:00, 135.05it/s]"
          ]
        },
        {
          "output_type": "stream",
          "name": "stdout",
          "text": [
            "4323\n"
          ]
        },
        {
          "output_type": "stream",
          "name": "stderr",
          "text": [
            "\n"
          ]
        }
      ],
      "source": [
        "create_data()\n",
        "print(len(data))"
      ]
    },
    {
      "cell_type": "code",
      "execution_count": null,
      "metadata": {
        "colab": {
          "base_uri": "https://localhost:8080/"
        },
        "id": "wmBaM2piVKM8",
        "outputId": "ec1394cd-307a-45cf-bc36-b2e248ce6e7a"
      },
      "outputs": [
        {
          "output_type": "stream",
          "name": "stderr",
          "text": [
            "100%|██████████| 4323/4323 [00:00<00:00, 788621.09it/s]\n"
          ]
        }
      ],
      "source": [
        "X = []\n",
        "Y = []\n",
        "\n",
        "for features, labels in tqdm(data):\n",
        "  X.append(features)\n",
        "  Y.append(labels)"
      ]
    },
    {
      "cell_type": "code",
      "source": [
        "# num_classes = Y['labels'].nunique()\n",
        "# print(\"Total number of classes:\", num_classes)"
      ],
      "metadata": {
        "id": "hD5zTPXFwUDc"
      },
      "execution_count": null,
      "outputs": []
    },
    {
      "cell_type": "code",
      "execution_count": null,
      "metadata": {
        "colab": {
          "base_uri": "https://localhost:8080/"
        },
        "id": "LGCpkckuXjKl",
        "outputId": "c5a78a40-de85-4a74-8315-54a58d9c0ef6"
      },
      "outputs": [
        {
          "output_type": "execute_result",
          "data": {
            "text/plain": [
              "list"
            ]
          },
          "metadata": {},
          "execution_count": 120
        }
      ],
      "source": [
        "type(X)"
      ]
    },
    {
      "cell_type": "code",
      "execution_count": null,
      "metadata": {
        "id": "gNSWLfcQawkz"
      },
      "outputs": [],
      "source": [
        "x = np.array(X)\n",
        "y = np.array(Y)"
      ]
    },
    {
      "cell_type": "code",
      "execution_count": null,
      "metadata": {
        "colab": {
          "base_uri": "https://localhost:8080/"
        },
        "id": "no1SBISUa-OB",
        "outputId": "58c06497-ef32-49f2-e714-5b5ce6161a96"
      },
      "outputs": [
        {
          "output_type": "execute_result",
          "data": {
            "text/plain": [
              "(4323, 180, 180, 3)"
            ]
          },
          "metadata": {},
          "execution_count": 122
        }
      ],
      "source": [
        "np.shape(X)"
      ]
    },
    {
      "cell_type": "code",
      "execution_count": null,
      "metadata": {
        "id": "5yVJaDvgqHBC"
      },
      "outputs": [],
      "source": [
        "x_reshaped = x.reshape(4323, -1)"
      ]
    },
    {
      "cell_type": "code",
      "execution_count": null,
      "metadata": {
        "colab": {
          "base_uri": "https://localhost:8080/"
        },
        "id": "BLZmk4geqM8J",
        "outputId": "a30c680a-b31b-40f6-d2ec-4c7f57781c45"
      },
      "outputs": [
        {
          "output_type": "execute_result",
          "data": {
            "text/plain": [
              "(4323, 97200)"
            ]
          },
          "metadata": {},
          "execution_count": 124
        }
      ],
      "source": [
        "np.shape(x_reshaped)"
      ]
    },
    {
      "cell_type": "code",
      "execution_count": null,
      "metadata": {
        "colab": {
          "base_uri": "https://localhost:8080/"
        },
        "id": "bS1lm_qQbL2c",
        "outputId": "19025a6b-14f7-4bef-bbe6-906c58c546ae"
      },
      "outputs": [
        {
          "output_type": "execute_result",
          "data": {
            "text/plain": [
              "(4323,)"
            ]
          },
          "metadata": {},
          "execution_count": 125
        }
      ],
      "source": [
        "np.shape(y)"
      ]
    },
    {
      "cell_type": "code",
      "execution_count": null,
      "metadata": {
        "id": "iRX75cV5bSOH"
      },
      "outputs": [],
      "source": [
        "x_train, x_test, y_train, y_test=train_test_split(x_reshaped, y, test_size=0.3, random_state=10)"
      ]
    },
    {
      "cell_type": "code",
      "execution_count": null,
      "metadata": {
        "id": "js5_3Pz-lLkX"
      },
      "outputs": [],
      "source": [
        "# Build a simple ANN architecture (input layers), hidden layers=2, output layer=1)\n",
        "annmodel = Sequential([\n",
        "    Dense(200, activation='relu',  input_shape=(97200,)),\n",
        "    Dense(128, activation='relu'),\n",
        "    Dense(64, activation='relu'),\n",
        "    Dense(5, activation='softmax')\n",
        "])"
      ]
    },
    {
      "cell_type": "code",
      "execution_count": null,
      "metadata": {
        "id": "-BikPVRTbpsL"
      },
      "outputs": [],
      "source": [
        "annmodel.compile(optimizer='adam', loss='sparse_categorical_crossentropy', metrics=['accuracy'])"
      ]
    },
    {
      "cell_type": "code",
      "execution_count": null,
      "metadata": {
        "colab": {
          "base_uri": "https://localhost:8080/"
        },
        "id": "5IzfY0t6pL4F",
        "outputId": "7b0df4f3-82e6-4919-8de3-5a4112f6b7d2"
      },
      "outputs": [
        {
          "output_type": "stream",
          "name": "stdout",
          "text": [
            "Epoch 1/5\n",
            "95/95 [==============================] - 46s 452ms/step - loss: 1924.7946 - accuracy: 0.2944 - val_loss: 496.1252 - val_accuracy: 0.3577\n",
            "Epoch 2/5\n",
            "95/95 [==============================] - 44s 465ms/step - loss: 736.8755 - accuracy: 0.3424 - val_loss: 363.3942 - val_accuracy: 0.3971\n",
            "Epoch 3/5\n",
            "95/95 [==============================] - 46s 483ms/step - loss: 264.3887 - accuracy: 0.4240 - val_loss: 223.2756 - val_accuracy: 0.3732\n",
            "Epoch 4/5\n",
            "95/95 [==============================] - 45s 473ms/step - loss: 139.9656 - accuracy: 0.4633 - val_loss: 186.0981 - val_accuracy: 0.3616\n",
            "Epoch 5/5\n",
            "95/95 [==============================] - 47s 491ms/step - loss: 170.2594 - accuracy: 0.4323 - val_loss: 281.5623 - val_accuracy: 0.3045\n"
          ]
        }
      ],
      "source": [
        "S=time.time()\n",
        "annmodel.fit(x_train, y_train, epochs=5, batch_size=32, validation_data=(x_test, y_test))\n",
        "E=time.time()"
      ]
    },
    {
      "cell_type": "code",
      "execution_count": null,
      "metadata": {
        "id": "r-ZVrD2IpN7u",
        "colab": {
          "base_uri": "https://localhost:8080/"
        },
        "outputId": "b10dfe5e-ed01-429e-a291-048d498eed61"
      },
      "outputs": [
        {
          "output_type": "stream",
          "name": "stdout",
          "text": [
            "41/41 [==============================] - 2s 38ms/step - loss: 281.5623 - accuracy: 0.3045\n",
            "Test accuracy: 0.3045489490032196\n"
          ]
        }
      ],
      "source": [
        "test_loss, test_acc = annmodel.evaluate(x_test, y_test)\n",
        "#joblib.dump(cnnmodel, 'cnn_model.joblib')\n",
        "print(f\"Test accuracy: {test_acc}\")"
      ]
    },
    {
      "cell_type": "code",
      "source": [],
      "metadata": {
        "id": "60XTV2btx4jA"
      },
      "execution_count": null,
      "outputs": []
    }
  ],
  "metadata": {
    "colab": {
      "provenance": []
    },
    "kernelspec": {
      "display_name": "Python 3",
      "name": "python3"
    },
    "language_info": {
      "name": "python"
    }
  },
  "nbformat": 4,
  "nbformat_minor": 0
}